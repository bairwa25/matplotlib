{
  "nbformat": 4,
  "nbformat_minor": 0,
  "metadata": {
    "anaconda-cloud": {},
    "kernelspec": {
      "display_name": "Python 3",
      "language": "python",
      "name": "python3"
    },
    "language_info": {
      "codemirror_mode": {
        "name": "ipython",
        "version": 3
      },
      "file_extension": ".py",
      "mimetype": "text/x-python",
      "name": "python",
      "nbconvert_exporter": "python",
      "pygments_lexer": "ipython3",
      "version": "3.6.8"
    },
    "colab": {
      "name": "MarkerTypeColor.ipynb",
      "provenance": [],
      "toc_visible": true,
      "include_colab_link": true
    }
  },
  "cells": [
    {
      "cell_type": "markdown",
      "metadata": {
        "id": "view-in-github",
        "colab_type": "text"
      },
      "source": [
        "<a href=\"https://colab.research.google.com/github/bairwa25/matplotlib/blob/master/MarkerTypeColor.ipynb\" target=\"_parent\"><img src=\"https://colab.research.google.com/assets/colab-badge.svg\" alt=\"Open In Colab\"/></a>"
      ]
    },
    {
      "cell_type": "code",
      "metadata": {
        "id": "Yu386dsFs0K_",
        "colab_type": "code",
        "colab": {
          "base_uri": "https://localhost:8080/",
          "height": 70
        },
        "outputId": "867a48e9-2b08-4da6-9203-b307115dcd92"
      },
      "source": [
        "# The ``inline`` flag will use the appropriate backend to make figures appear inline in the notebook.  \n",
        "%matplotlib inline\n",
        "\n",
        "import pandas as pd\n",
        "import numpy as np\n",
        "\n",
        "# `plt` is an alias for the `matplotlib.pyplot` module\n",
        "import matplotlib.pyplot as plt\n",
        "\n",
        "# import seaborn library (wrapper of matplotlib)\n",
        "import seaborn as sns"
      ],
      "execution_count": 1,
      "outputs": [
        {
          "output_type": "stream",
          "text": [
            "/usr/local/lib/python3.6/dist-packages/statsmodels/tools/_testing.py:19: FutureWarning: pandas.util.testing is deprecated. Use the functions in the public API at pandas.testing instead.\n",
            "  import pandas.util.testing as tm\n"
          ],
          "name": "stderr"
        }
      ]
    },
    {
      "cell_type": "markdown",
      "metadata": {
        "id": "YAANTMEfs0LM",
        "colab_type": "text"
      },
      "source": [
        "### Load Data"
      ]
    },
    {
      "cell_type": "code",
      "metadata": {
        "id": "fEhC5mBas0LO",
        "colab_type": "code",
        "colab": {}
      },
      "source": [
        "# Load car loan data into a pandas dataframe from a csv file\n",
        "filename = 'data/table_i702t60.csv'\n",
        "df = pd.read_csv(filename)"
      ],
      "execution_count": 2,
      "outputs": []
    },
    {
      "cell_type": "code",
      "metadata": {
        "id": "T0u2Mwdds0Lj",
        "colab_type": "code",
        "colab": {
          "base_uri": "https://localhost:8080/",
          "height": 195
        },
        "outputId": "bd6ea968-3326-42c5-a7d8-ae87bbfeab10"
      },
      "source": [
        "# View the first 5 rows of the dataframe\n",
        "df.head()"
      ],
      "execution_count": 3,
      "outputs": [
        {
          "output_type": "execute_result",
          "data": {
            "text/html": [
              "<div>\n",
              "<style scoped>\n",
              "    .dataframe tbody tr th:only-of-type {\n",
              "        vertical-align: middle;\n",
              "    }\n",
              "\n",
              "    .dataframe tbody tr th {\n",
              "        vertical-align: top;\n",
              "    }\n",
              "\n",
              "    .dataframe thead th {\n",
              "        text-align: right;\n",
              "    }\n",
              "</style>\n",
              "<table border=\"1\" class=\"dataframe\">\n",
              "  <thead>\n",
              "    <tr style=\"text-align: right;\">\n",
              "      <th></th>\n",
              "      <th>month</th>\n",
              "      <th>starting_balance</th>\n",
              "      <th>interest_paid</th>\n",
              "      <th>principal_paid</th>\n",
              "      <th>new_balance</th>\n",
              "      <th>interest_rate</th>\n",
              "      <th>car_type</th>\n",
              "    </tr>\n",
              "  </thead>\n",
              "  <tbody>\n",
              "    <tr>\n",
              "      <th>0</th>\n",
              "      <td>1</td>\n",
              "      <td>34689.96</td>\n",
              "      <td>202.93</td>\n",
              "      <td>484.30</td>\n",
              "      <td>34205.66</td>\n",
              "      <td>0.0702</td>\n",
              "      <td>Toyota Sienna</td>\n",
              "    </tr>\n",
              "    <tr>\n",
              "      <th>1</th>\n",
              "      <td>2</td>\n",
              "      <td>34205.66</td>\n",
              "      <td>200.10</td>\n",
              "      <td>487.13</td>\n",
              "      <td>33718.53</td>\n",
              "      <td>0.0702</td>\n",
              "      <td>Toyota Sienna</td>\n",
              "    </tr>\n",
              "    <tr>\n",
              "      <th>2</th>\n",
              "      <td>3</td>\n",
              "      <td>33718.53</td>\n",
              "      <td>197.25</td>\n",
              "      <td>489.98</td>\n",
              "      <td>33228.55</td>\n",
              "      <td>0.0702</td>\n",
              "      <td>Toyota Sienna</td>\n",
              "    </tr>\n",
              "    <tr>\n",
              "      <th>3</th>\n",
              "      <td>4</td>\n",
              "      <td>33228.55</td>\n",
              "      <td>194.38</td>\n",
              "      <td>492.85</td>\n",
              "      <td>32735.70</td>\n",
              "      <td>0.0702</td>\n",
              "      <td>Toyota Sienna</td>\n",
              "    </tr>\n",
              "    <tr>\n",
              "      <th>4</th>\n",
              "      <td>5</td>\n",
              "      <td>32735.70</td>\n",
              "      <td>191.50</td>\n",
              "      <td>495.73</td>\n",
              "      <td>32239.97</td>\n",
              "      <td>0.0702</td>\n",
              "      <td>Toyota Sienna</td>\n",
              "    </tr>\n",
              "  </tbody>\n",
              "</table>\n",
              "</div>"
            ],
            "text/plain": [
              "   month  starting_balance  ...  interest_rate       car_type\n",
              "0      1          34689.96  ...         0.0702  Toyota Sienna\n",
              "1      2          34205.66  ...         0.0702  Toyota Sienna\n",
              "2      3          33718.53  ...         0.0702  Toyota Sienna\n",
              "3      4          33228.55  ...         0.0702  Toyota Sienna\n",
              "4      5          32735.70  ...         0.0702  Toyota Sienna\n",
              "\n",
              "[5 rows x 7 columns]"
            ]
          },
          "metadata": {
            "tags": []
          },
          "execution_count": 3
        }
      ]
    },
    {
      "cell_type": "code",
      "metadata": {
        "id": "8vxsolqms0Lt",
        "colab_type": "code",
        "colab": {
          "base_uri": "https://localhost:8080/",
          "height": 252
        },
        "outputId": "b1446086-0d5f-43be-837a-fd99188b60d2"
      },
      "source": [
        "# Checking to make sure we dont have nans in our dataframe\n",
        "# It is not easy to directly plot data that contains nans\n",
        "df.info()"
      ],
      "execution_count": 4,
      "outputs": [
        {
          "output_type": "stream",
          "text": [
            "<class 'pandas.core.frame.DataFrame'>\n",
            "RangeIndex: 60 entries, 0 to 59\n",
            "Data columns (total 7 columns):\n",
            " #   Column            Non-Null Count  Dtype  \n",
            "---  ------            --------------  -----  \n",
            " 0   month             60 non-null     int64  \n",
            " 1   starting_balance  60 non-null     float64\n",
            " 2   interest_paid     60 non-null     float64\n",
            " 3   principal_paid    60 non-null     float64\n",
            " 4   new_balance       60 non-null     float64\n",
            " 5   interest_rate     60 non-null     float64\n",
            " 6   car_type          60 non-null     object \n",
            "dtypes: float64(5), int64(1), object(1)\n",
            "memory usage: 3.4+ KB\n"
          ],
          "name": "stdout"
        }
      ]
    },
    {
      "cell_type": "code",
      "metadata": {
        "id": "CyTXh6Oxs0Lw",
        "colab_type": "code",
        "colab": {}
      },
      "source": [
        "# For this notebook we will graph interest_paid, principal_paid, and month on one graph\n",
        "# While we could graph directly through pandas, we will graph through matplotlib for now.\n",
        "month_number = df.loc[:, 'month'].values\n",
        "interest_paid = df.loc[:, 'interest_paid'].values\n",
        "principal_paid = df.loc[:, 'principal_paid'].values"
      ],
      "execution_count": 5,
      "outputs": []
    },
    {
      "cell_type": "code",
      "metadata": {
        "id": "pLR1xoy9s0L1",
        "colab_type": "code",
        "colab": {
          "base_uri": "https://localhost:8080/",
          "height": 84
        },
        "outputId": "e5ec26d5-2662-40df-a33e-4c6b6e0ec4ab"
      },
      "source": [
        "month_number"
      ],
      "execution_count": 6,
      "outputs": [
        {
          "output_type": "execute_result",
          "data": {
            "text/plain": [
              "array([ 1,  2,  3,  4,  5,  6,  7,  8,  9, 10, 11, 12, 13, 14, 15, 16, 17,\n",
              "       18, 19, 20, 21, 22, 23, 24, 25, 26, 27, 28, 29, 30, 31, 32, 33, 34,\n",
              "       35, 36, 37, 38, 39, 40, 41, 42, 43, 44, 45, 46, 47, 48, 49, 50, 51,\n",
              "       52, 53, 54, 55, 56, 57, 58, 59, 60])"
            ]
          },
          "metadata": {
            "tags": []
          },
          "execution_count": 6
        }
      ]
    },
    {
      "cell_type": "code",
      "metadata": {
        "id": "8yaM22fzs0L4",
        "colab_type": "code",
        "colab": {
          "base_uri": "https://localhost:8080/",
          "height": 34
        },
        "outputId": "bbc268fa-19c2-40b3-d39d-068e05b6c5fd"
      },
      "source": [
        "# The values attribute converts a column of values into a numpy array\n",
        "type(month_number)"
      ],
      "execution_count": 7,
      "outputs": [
        {
          "output_type": "execute_result",
          "data": {
            "text/plain": [
              "numpy.ndarray"
            ]
          },
          "metadata": {
            "tags": []
          },
          "execution_count": 7
        }
      ]
    },
    {
      "cell_type": "markdown",
      "metadata": {
        "id": "osY0N0FQs0MA",
        "colab_type": "text"
      },
      "source": [
        "## Changing Marker Type and Colors\n",
        "\n",
        "### Marker Type\n",
        "Here are a couple common marker types. \n",
        "\n",
        "string | description\n",
        "--- | ---\n",
        "'.' | point marker\n",
        "',' | pixel marker\n",
        "'o' | circle marker\n",
        "'v' | triangle_down marker\n",
        "'^' | triangle_up marker\n",
        "'<' | triangle_left marker\n",
        "'>' | triangle_right marker\n",
        "'s'\t| square marker\n",
        "'\\*' | star marker\n",
        "'+' | plus marker\n",
        "'x' | x marker\n",
        "'s'\t| square marker"
      ]
    },
    {
      "cell_type": "code",
      "metadata": {
        "id": "ZvU9o1jhs0MB",
        "colab_type": "code",
        "colab": {
          "base_uri": "https://localhost:8080/",
          "height": 364
        },
        "outputId": "857a90cd-303e-452e-8b77-4f04a825317b"
      },
      "source": [
        "plt.style.use('seaborn')\n",
        "\n",
        "plt.plot(month_number, interest_paid, marker = '.', markersize = 10)\n",
        "plt.plot(month_number, principal_paid, marker = '.', markersize = 10)"
      ],
      "execution_count": 8,
      "outputs": [
        {
          "output_type": "execute_result",
          "data": {
            "text/plain": [
              "[<matplotlib.lines.Line2D at 0x7f09ecc681d0>]"
            ]
          },
          "metadata": {
            "tags": []
          },
          "execution_count": 8
        },
        {
          "output_type": "display_data",
          "data": {
            "image/png": "[encoded data removed]",
            "text/plain": [
              "<Figure size 576x396 with 1 Axes>"
            ]
          },
          "metadata": {
            "tags": []
          }
        }
      ]
    },
    {
      "cell_type": "markdown",
      "metadata": {
        "id": "OI9nTK7ns0ME",
        "colab_type": "text"
      },
      "source": [
        "## Change Color\n",
        "The `c` parameter accepts strings.\n",
        "\n",
        "string | color\n",
        "--- | ---\n",
        "'b' | blue\n",
        "'blue' | blue\n",
        "'g' | green\n",
        "'green' | green\n",
        "'r' | red\n",
        "'red' | red\n",
        "'c' | cyan\n",
        "'cyan' | cyan\n",
        "'m' | magenta\n",
        "'magenta' | magenta\n",
        "'y' | yellow\n",
        "'yellow' | yellow\n",
        "'k' | black\n",
        "'black' | black\n",
        "'w' | white\n",
        "'white' | white\n",
        "\n",
        "The parameter also accepts hex strings. For instance, green is '#008000'. Additionally you can use rgb tuples. "
      ]
    },
    {
      "cell_type": "code",
      "metadata": {
        "id": "jXyqa-MQs0MF",
        "colab_type": "code",
        "colab": {
          "base_uri": "https://localhost:8080/",
          "height": 364
        },
        "outputId": "ddac0f74-0c16-4547-b1d0-4bfff64d1a23"
      },
      "source": [
        "plt.plot(month_number, interest_paid,c = 'k', marker = '.', markersize = 10)\n",
        "plt.plot(month_number, principal_paid,c = 'b', marker = '.', markersize = 10)"
      ],
      "execution_count": 9,
      "outputs": [
        {
          "output_type": "execute_result",
          "data": {
            "text/plain": [
              "[<matplotlib.lines.Line2D at 0x7f09ecbaf748>]"
            ]
          },
          "metadata": {
            "tags": []
          },
          "execution_count": 9
        },
        {
          "output_type": "display_data",
          "data": {
            "image/png": "[encoded data removed]",
            "text/plain": [
              "<Figure size 576x396 with 1 Axes>"
            ]
          },
          "metadata": {
            "tags": []
          }
        }
      ]
    },
    {
      "cell_type": "code",
      "metadata": {
        "id": "24aG2h3js0MI",
        "colab_type": "code",
        "colab": {
          "base_uri": "https://localhost:8080/",
          "height": 364
        },
        "outputId": "b805ba22-cecf-4aeb-a077-2983b3ec6949"
      },
      "source": [
        "# Using hex strings\n",
        "# '#000000' is black\n",
        "# '#0000FF' is blue\n",
        "plt.plot(month_number, interest_paid,c = '#000000', marker = '.', markersize = 10)\n",
        "plt.plot(month_number, principal_paid,c = '#0000FF', marker = '.', markersize = 10)"
      ],
      "execution_count": 10,
      "outputs": [
        {
          "output_type": "execute_result",
          "data": {
            "text/plain": [
              "[<matplotlib.lines.Line2D at 0x7f09f7ea1518>]"
            ]
          },
          "metadata": {
            "tags": []
          },
          "execution_count": 10
        },
        {
          "output_type": "display_data",
          "data": {
            "image/png": "[encoded data removed]",
            "text/plain": [
              "<Figure size 576x396 with 1 Axes>"
            ]
          },
          "metadata": {
            "tags": []
          }
        }
      ]
    },
    {
      "cell_type": "code",
      "metadata": {
        "scrolled": true,
        "id": "Khcx2svKs0MN",
        "colab_type": "code",
        "colab": {
          "base_uri": "https://localhost:8080/",
          "height": 364
        },
        "outputId": "de57de32-3ad5-4a80-ab0b-876465abfffb"
      },
      "source": [
        "# Using rgb tuples\n",
        "# (0, 0, 0) is black\n",
        "# (0, 0, 1) is blue\n",
        "plt.plot(month_number, interest_paid,c = (0, 0, 0), marker = '.', markersize = 10)\n",
        "plt.plot(month_number, principal_paid,c = (0, 0, 1), marker = '.', markersize = 10)"
      ],
      "execution_count": 11,
      "outputs": [
        {
          "output_type": "execute_result",
          "data": {
            "text/plain": [
              "[<matplotlib.lines.Line2D at 0x7f09ec657b70>]"
            ]
          },
          "metadata": {
            "tags": []
          },
          "execution_count": 11
        },
        {
          "output_type": "display_data",
          "data": {
            "image/png": "[encoded data removed]",
            "text/plain": [
              "<Figure size 576x396 with 1 Axes>"
            ]
          },
          "metadata": {
            "tags": []
          }
        }
      ]
    },
    {
      "cell_type": "code",
      "metadata": {
        "id": "UM3zRrdss0MR",
        "colab_type": "code",
        "colab": {}
      },
      "source": [
        ""
      ],
      "execution_count": null,
      "outputs": []
    }
  ]
}