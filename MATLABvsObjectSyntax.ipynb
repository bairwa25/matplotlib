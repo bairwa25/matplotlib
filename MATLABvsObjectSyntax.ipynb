{
  "nbformat": 4,
  "nbformat_minor": 0,
  "metadata": {
    "anaconda-cloud": {},
    "kernelspec": {
      "display_name": "Python 3",
      "language": "python",
      "name": "python3"
    },
    "language_info": {
      "codemirror_mode": {
        "name": "ipython",
        "version": 3
      },
      "file_extension": ".py",
      "mimetype": "text/x-python",
      "name": "python",
      "nbconvert_exporter": "python",
      "pygments_lexer": "ipython3",
      "version": "3.6.8"
    },
    "colab": {
      "name": "MATLABvsObjectSyntax.ipynb",
      "provenance": [],
      "toc_visible": true,
      "include_colab_link": true
    }
  },
  "cells": [
    {
      "cell_type": "markdown",
      "metadata": {
        "id": "view-in-github",
        "colab_type": "text"
      },
      "source": [
        "<a href=\"https://colab.research.google.com/github/bairwa25/matplotlib/blob/master/MATLABvsObjectSyntax.ipynb\" target=\"_parent\"><img src=\"https://colab.research.google.com/assets/colab-badge.svg\" alt=\"Open In Colab\"/></a>"
      ]
    },
    {
      "cell_type": "code",
      "metadata": {
        "id": "upyKCRmWusBu",
        "colab_type": "code",
        "colab": {
          "base_uri": "https://localhost:8080/",
          "height": 70
        },
        "outputId": "e85cee8a-ebc6-4cce-db31-97a5e1ed82d7"
      },
      "source": [
        "# The ``inline`` flag will use the appropriate backend to make figures appear inline in the notebook.  \n",
        "%matplotlib inline\n",
        "\n",
        "import pandas as pd\n",
        "import numpy as np\n",
        "\n",
        "# `plt` is an alias for the `matplotlib.pyplot` module\n",
        "import matplotlib.pyplot as plt\n",
        "\n",
        "# import seaborn library (wrapper of matplotlib)\n",
        "import seaborn as sns"
      ],
      "execution_count": 1,
      "outputs": [
        {
          "output_type": "stream",
          "text": [
            "/usr/local/lib/python3.6/dist-packages/statsmodels/tools/_testing.py:19: FutureWarning: pandas.util.testing is deprecated. Use the functions in the public API at pandas.testing instead.\n",
            "  import pandas.util.testing as tm\n"
          ],
          "name": "stderr"
        }
      ]
    },
    {
      "cell_type": "markdown",
      "metadata": {
        "id": "yHFAjPBFusB_",
        "colab_type": "text"
      },
      "source": [
        "### Load Data\n",
        "To be able to graph data, you need to have data. We will load a dataset that is a payment table of the 34690 dollar car loan at 7.02% over 60 months.\n",
        "\n",
        "Data originally taken from [here](https://towardsdatascience.com/the-cost-of-financing-a-new-car-car-loans-c00997f1aee)."
      ]
    },
    {
      "cell_type": "code",
      "metadata": {
        "id": "PvuGbBtUusCC",
        "colab_type": "code",
        "colab": {}
      },
      "source": [
        "# Load car loan data into a pandas dataframe from a csv file\n",
        "filename = 'data/table_i702t60.csv'\n",
        "df = pd.read_csv(filename)"
      ],
      "execution_count": 2,
      "outputs": []
    },
    {
      "cell_type": "code",
      "metadata": {
        "id": "8jZe98IiusCP",
        "colab_type": "code",
        "colab": {
          "base_uri": "https://localhost:8080/",
          "height": 195
        },
        "outputId": "fd382069-6a16-49b0-c2f2-a2cd6e816dfd"
      },
      "source": [
        "# View the first 5 rows of the dataframe\n",
        "df.head()"
      ],
      "execution_count": 3,
      "outputs": [
        {
          "output_type": "execute_result",
          "data": {
            "text/html": [
              "<div>\n",
              "<style scoped>\n",
              "    .dataframe tbody tr th:only-of-type {\n",
              "        vertical-align: middle;\n",
              "    }\n",
              "\n",
              "    .dataframe tbody tr th {\n",
              "        vertical-align: top;\n",
              "    }\n",
              "\n",
              "    .dataframe thead th {\n",
              "        text-align: right;\n",
              "    }\n",
              "</style>\n",
              "<table border=\"1\" class=\"dataframe\">\n",
              "  <thead>\n",
              "    <tr style=\"text-align: right;\">\n",
              "      <th></th>\n",
              "      <th>month</th>\n",
              "      <th>starting_balance</th>\n",
              "      <th>interest_paid</th>\n",
              "      <th>principal_paid</th>\n",
              "      <th>new_balance</th>\n",
              "      <th>interest_rate</th>\n",
              "      <th>car_type</th>\n",
              "    </tr>\n",
              "  </thead>\n",
              "  <tbody>\n",
              "    <tr>\n",
              "      <th>0</th>\n",
              "      <td>1</td>\n",
              "      <td>34689.96</td>\n",
              "      <td>202.93</td>\n",
              "      <td>484.30</td>\n",
              "      <td>34205.66</td>\n",
              "      <td>0.0702</td>\n",
              "      <td>Toyota Sienna</td>\n",
              "    </tr>\n",
              "    <tr>\n",
              "      <th>1</th>\n",
              "      <td>2</td>\n",
              "      <td>34205.66</td>\n",
              "      <td>200.10</td>\n",
              "      <td>487.13</td>\n",
              "      <td>33718.53</td>\n",
              "      <td>0.0702</td>\n",
              "      <td>Toyota Sienna</td>\n",
              "    </tr>\n",
              "    <tr>\n",
              "      <th>2</th>\n",
              "      <td>3</td>\n",
              "      <td>33718.53</td>\n",
              "      <td>197.25</td>\n",
              "      <td>489.98</td>\n",
              "      <td>33228.55</td>\n",
              "      <td>0.0702</td>\n",
              "      <td>Toyota Sienna</td>\n",
              "    </tr>\n",
              "    <tr>\n",
              "      <th>3</th>\n",
              "      <td>4</td>\n",
              "      <td>33228.55</td>\n",
              "      <td>194.38</td>\n",
              "      <td>492.85</td>\n",
              "      <td>32735.70</td>\n",
              "      <td>0.0702</td>\n",
              "      <td>Toyota Sienna</td>\n",
              "    </tr>\n",
              "    <tr>\n",
              "      <th>4</th>\n",
              "      <td>5</td>\n",
              "      <td>32735.70</td>\n",
              "      <td>191.50</td>\n",
              "      <td>495.73</td>\n",
              "      <td>32239.97</td>\n",
              "      <td>0.0702</td>\n",
              "      <td>Toyota Sienna</td>\n",
              "    </tr>\n",
              "  </tbody>\n",
              "</table>\n",
              "</div>"
            ],
            "text/plain": [
              "   month  starting_balance  ...  interest_rate       car_type\n",
              "0      1          34689.96  ...         0.0702  Toyota Sienna\n",
              "1      2          34205.66  ...         0.0702  Toyota Sienna\n",
              "2      3          33718.53  ...         0.0702  Toyota Sienna\n",
              "3      4          33228.55  ...         0.0702  Toyota Sienna\n",
              "4      5          32735.70  ...         0.0702  Toyota Sienna\n",
              "\n",
              "[5 rows x 7 columns]"
            ]
          },
          "metadata": {
            "tags": []
          },
          "execution_count": 3
        }
      ]
    },
    {
      "cell_type": "code",
      "metadata": {
        "id": "BnGPcs3pusCW",
        "colab_type": "code",
        "colab": {
          "base_uri": "https://localhost:8080/",
          "height": 252
        },
        "outputId": "4777c780-bc2d-41fb-ce6c-145110c0c336"
      },
      "source": [
        "# Checking to make sure we dont have nans in our dataframe\n",
        "# You can't directly plot data that contains nans\n",
        "df.info()"
      ],
      "execution_count": 4,
      "outputs": [
        {
          "output_type": "stream",
          "text": [
            "<class 'pandas.core.frame.DataFrame'>\n",
            "RangeIndex: 60 entries, 0 to 59\n",
            "Data columns (total 7 columns):\n",
            " #   Column            Non-Null Count  Dtype  \n",
            "---  ------            --------------  -----  \n",
            " 0   month             60 non-null     int64  \n",
            " 1   starting_balance  60 non-null     float64\n",
            " 2   interest_paid     60 non-null     float64\n",
            " 3   principal_paid    60 non-null     float64\n",
            " 4   new_balance       60 non-null     float64\n",
            " 5   interest_rate     60 non-null     float64\n",
            " 6   car_type          60 non-null     object \n",
            "dtypes: float64(5), int64(1), object(1)\n",
            "memory usage: 3.4+ KB\n"
          ],
          "name": "stdout"
        }
      ]
    },
    {
      "cell_type": "code",
      "metadata": {
        "id": "-XAD2LMOusCb",
        "colab_type": "code",
        "colab": {}
      },
      "source": [
        "# For this notebook we will graph interest_paid, principal_paid, and month on one graph\n",
        "# While we could graph directly through pandas, we will graph through matplotlib for this video\n",
        "month_number = df.loc[:, 'month'].values\n",
        "interest_paid = df.loc[:, 'interest_paid'].values\n",
        "principal_paid = df.loc[:, 'principal_paid'].values"
      ],
      "execution_count": 5,
      "outputs": []
    },
    {
      "cell_type": "code",
      "metadata": {
        "id": "q3LCPgTxusCg",
        "colab_type": "code",
        "colab": {
          "base_uri": "https://localhost:8080/",
          "height": 84
        },
        "outputId": "067c35f6-dfb7-4b04-f5af-aa567ac54992"
      },
      "source": [
        "month_number"
      ],
      "execution_count": 6,
      "outputs": [
        {
          "output_type": "execute_result",
          "data": {
            "text/plain": [
              "array([ 1,  2,  3,  4,  5,  6,  7,  8,  9, 10, 11, 12, 13, 14, 15, 16, 17,\n",
              "       18, 19, 20, 21, 22, 23, 24, 25, 26, 27, 28, 29, 30, 31, 32, 33, 34,\n",
              "       35, 36, 37, 38, 39, 40, 41, 42, 43, 44, 45, 46, 47, 48, 49, 50, 51,\n",
              "       52, 53, 54, 55, 56, 57, 58, 59, 60])"
            ]
          },
          "metadata": {
            "tags": []
          },
          "execution_count": 6
        }
      ]
    },
    {
      "cell_type": "code",
      "metadata": {
        "id": "lqdR7Yk2usCl",
        "colab_type": "code",
        "colab": {
          "base_uri": "https://localhost:8080/",
          "height": 34
        },
        "outputId": "96712ebf-b952-42a1-843a-151901081fb0"
      },
      "source": [
        "# The values attribute converts a column of values into a numpy array\n",
        "type(month_number)"
      ],
      "execution_count": 7,
      "outputs": [
        {
          "output_type": "execute_result",
          "data": {
            "text/plain": [
              "numpy.ndarray"
            ]
          },
          "metadata": {
            "tags": []
          },
          "execution_count": 7
        }
      ]
    },
    {
      "cell_type": "markdown",
      "metadata": {
        "id": "zXoyjmFZusCr",
        "colab_type": "text"
      },
      "source": [
        "Keep in mind that we havent gotten to every parameter of `plt.plot`. If you want to learn more, you can see the [documentation](https://matplotlib.org/3.1.1/api/_as_gen/matplotlib.pyplot.plot.html)."
      ]
    },
    {
      "cell_type": "markdown",
      "metadata": {
        "id": "xLJWWemTusCs",
        "colab_type": "text"
      },
      "source": [
        "## MATLAB-style vs Object Syntax\n",
        "Matplotlib has two different types of syntax.\n",
        "\n",
        "<b>MATLAB-style</b>\n",
        "\n",
        "This is a scripted interface designed to feel like MATLAB. Matplotlib maintains a pointer to the current (active) figure and sends commands to it. \n",
        "\n",
        "<b>Object-oriented</b>\n",
        "\n",
        "This is more often used in situations where you want more control over your figure. \n",
        "\n",
        "<b>Important Note</b>\n",
        "You can and often will have plots that will be created through a combination of MATLAB-style and object-oriented syntax. "
      ]
    },
    {
      "cell_type": "markdown",
      "metadata": {
        "id": "WeI5-3xPusCu",
        "colab_type": "text"
      },
      "source": [
        "### MATLAB-style"
      ]
    },
    {
      "cell_type": "code",
      "metadata": {
        "id": "80kqRhI5usC0",
        "colab_type": "code",
        "colab": {
          "base_uri": "https://localhost:8080/",
          "height": 364
        },
        "outputId": "2d2957e8-c451-49ac-83cd-688ab82ed8d2"
      },
      "source": [
        "plt.style.use('seaborn')\n",
        "\n",
        "plt.plot(month_number, interest_paid, c= 'k')\n",
        "plt.plot(month_number, principal_paid, c = 'b')"
      ],
      "execution_count": 8,
      "outputs": [
        {
          "output_type": "execute_result",
          "data": {
            "text/plain": [
              "[<matplotlib.lines.Line2D at 0x7f1e88aa90b8>]"
            ]
          },
          "metadata": {
            "tags": []
          },
          "execution_count": 8
        },
        {
          "output_type": "display_data",
          "data": {
            "image/png": "[encoded data removed]",
            "text/plain": [
              "<Figure size 576x396 with 1 Axes>"
            ]
          },
          "metadata": {
            "tags": []
          }
        }
      ]
    },
    {
      "cell_type": "markdown",
      "metadata": {
        "id": "myF_wv1ausC3",
        "colab_type": "text"
      },
      "source": [
        "### Object-oriented"
      ]
    },
    {
      "cell_type": "code",
      "metadata": {
        "id": "vSUfhzJnusC4",
        "colab_type": "code",
        "colab": {}
      },
      "source": [
        "# tuple unpacking\n",
        "x, y = (3, 9)"
      ],
      "execution_count": 9,
      "outputs": []
    },
    {
      "cell_type": "code",
      "metadata": {
        "id": "R-aJQ0TvusC7",
        "colab_type": "code",
        "colab": {
          "base_uri": "https://localhost:8080/",
          "height": 347
        },
        "outputId": "12491d1a-01a0-49e2-e940-1f092bd2bc0b"
      },
      "source": [
        "fig, axes = plt.subplots(nrows = 1, ncols = 1)\n",
        "axes.plot(month_number, interest_paid, c= 'k');\n",
        "axes.plot(month_number, principal_paid, c = 'b');"
      ],
      "execution_count": 10,
      "outputs": [
        {
          "output_type": "display_data",
          "data": {
            "image/png": "[encoded data removed]",
            "text/plain": [
              "<Figure size 576x396 with 1 Axes>"
            ]
          },
          "metadata": {
            "tags": []
          }
        }
      ]
    },
    {
      "cell_type": "markdown",
      "metadata": {
        "id": "01GWM6GDusC_",
        "colab_type": "text"
      },
      "source": [
        "### Combination"
      ]
    },
    {
      "cell_type": "code",
      "metadata": {
        "id": "RL7JufH9usDA",
        "colab_type": "code",
        "colab": {
          "base_uri": "https://localhost:8080/",
          "height": 364
        },
        "outputId": "a834fb08-1e79-4625-c136-3989aee283ba"
      },
      "source": [
        "fig, axes = plt.subplots(nrows = 1, ncols = 1)\n",
        "plt.plot(month_number, interest_paid, c= 'k')\n",
        "axes.plot(month_number, principal_paid, c = 'b')"
      ],
      "execution_count": 11,
      "outputs": [
        {
          "output_type": "execute_result",
          "data": {
            "text/plain": [
              "[<matplotlib.lines.Line2D at 0x7f1e884da550>]"
            ]
          },
          "metadata": {
            "tags": []
          },
          "execution_count": 11
        },
        {
          "output_type": "display_data",
          "data": {
            "image/png": "[encoded data removed]",
            "text/plain": [
              "<Figure size 576x396 with 1 Axes>"
            ]
          },
          "metadata": {
            "tags": []
          }
        }
      ]
    },
    {
      "cell_type": "code",
      "metadata": {
        "id": "uUg1tASrusDE",
        "colab_type": "code",
        "colab": {}
      },
      "source": [
        ""
      ],
      "execution_count": null,
      "outputs": []
    }
  ]
}