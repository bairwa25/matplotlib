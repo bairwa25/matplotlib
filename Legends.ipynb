{
  "nbformat": 4,
  "nbformat_minor": 0,
  "metadata": {
    "anaconda-cloud": {},
    "kernelspec": {
      "display_name": "Python 3",
      "language": "python",
      "name": "python3"
    },
    "language_info": {
      "codemirror_mode": {
        "name": "ipython",
        "version": 3
      },
      "file_extension": ".py",
      "mimetype": "text/x-python",
      "name": "python",
      "nbconvert_exporter": "python",
      "pygments_lexer": "ipython3",
      "version": "3.6.8"
    },
    "colab": {
      "name": "Legends.ipynb",
      "provenance": [],
      "toc_visible": true,
      "include_colab_link": true
    }
  },
  "cells": [
    {
      "cell_type": "markdown",
      "metadata": {
        "id": "view-in-github",
        "colab_type": "text"
      },
      "source": [
        "<a href=\"https://colab.research.google.com/github/bairwa25/matplotlib/blob/master/Legends.ipynb\" target=\"_parent\"><img src=\"https://colab.research.google.com/assets/colab-badge.svg\" alt=\"Open In Colab\"/></a>"
      ]
    },
    {
      "cell_type": "code",
      "metadata": {
        "id": "SIJwW1mmzScj",
        "colab_type": "code",
        "colab": {
          "base_uri": "https://localhost:8080/",
          "height": 70
        },
        "outputId": "0ea616b4-2140-49f7-d179-c18ef0e92486"
      },
      "source": [
        "# The ``inline`` flag will use the appropriate backend to make figures appear inline in the notebook.  \n",
        "%matplotlib inline\n",
        "\n",
        "import pandas as pd\n",
        "import numpy as np\n",
        "\n",
        "# `plt` is an alias for the `matplotlib.pyplot` module\n",
        "import matplotlib.pyplot as plt\n",
        "plt.style.use('classic')\n",
        "\n",
        "# import seaborn library (wrapper of matplotlib)\n",
        "import seaborn as sns"
      ],
      "execution_count": 1,
      "outputs": [
        {
          "output_type": "stream",
          "text": [
            "/usr/local/lib/python3.6/dist-packages/statsmodels/tools/_testing.py:19: FutureWarning: pandas.util.testing is deprecated. Use the functions in the public API at pandas.testing instead.\n",
            "  import pandas.util.testing as tm\n"
          ],
          "name": "stderr"
        }
      ]
    },
    {
      "cell_type": "markdown",
      "metadata": {
        "id": "ZcXPUIHRzSc0",
        "colab_type": "text"
      },
      "source": [
        "### Load Data"
      ]
    },
    {
      "cell_type": "code",
      "metadata": {
        "id": "PbgSS3NIzSc4",
        "colab_type": "code",
        "colab": {}
      },
      "source": [
        "# Load car loan data into a pandas dataframe from a csv file\n",
        "filename = 'data/table_i702t60.csv'\n",
        "df = pd.read_csv(filename)"
      ],
      "execution_count": 2,
      "outputs": []
    },
    {
      "cell_type": "code",
      "metadata": {
        "id": "thqvoeZUzSdF",
        "colab_type": "code",
        "colab": {
          "base_uri": "https://localhost:8080/",
          "height": 195
        },
        "outputId": "757cfa80-5ae7-41fd-ffb9-4b82c13520cd"
      },
      "source": [
        "# View the first 5 rows of the dataframe\n",
        "df.head()"
      ],
      "execution_count": 3,
      "outputs": [
        {
          "output_type": "execute_result",
          "data": {
            "text/html": [
              "<div>\n",
              "<style scoped>\n",
              "    .dataframe tbody tr th:only-of-type {\n",
              "        vertical-align: middle;\n",
              "    }\n",
              "\n",
              "    .dataframe tbody tr th {\n",
              "        vertical-align: top;\n",
              "    }\n",
              "\n",
              "    .dataframe thead th {\n",
              "        text-align: right;\n",
              "    }\n",
              "</style>\n",
              "<table border=\"1\" class=\"dataframe\">\n",
              "  <thead>\n",
              "    <tr style=\"text-align: right;\">\n",
              "      <th></th>\n",
              "      <th>month</th>\n",
              "      <th>starting_balance</th>\n",
              "      <th>interest_paid</th>\n",
              "      <th>principal_paid</th>\n",
              "      <th>new_balance</th>\n",
              "      <th>interest_rate</th>\n",
              "      <th>car_type</th>\n",
              "    </tr>\n",
              "  </thead>\n",
              "  <tbody>\n",
              "    <tr>\n",
              "      <th>0</th>\n",
              "      <td>1</td>\n",
              "      <td>34689.96</td>\n",
              "      <td>202.93</td>\n",
              "      <td>484.30</td>\n",
              "      <td>34205.66</td>\n",
              "      <td>0.0702</td>\n",
              "      <td>Toyota Sienna</td>\n",
              "    </tr>\n",
              "    <tr>\n",
              "      <th>1</th>\n",
              "      <td>2</td>\n",
              "      <td>34205.66</td>\n",
              "      <td>200.10</td>\n",
              "      <td>487.13</td>\n",
              "      <td>33718.53</td>\n",
              "      <td>0.0702</td>\n",
              "      <td>Toyota Sienna</td>\n",
              "    </tr>\n",
              "    <tr>\n",
              "      <th>2</th>\n",
              "      <td>3</td>\n",
              "      <td>33718.53</td>\n",
              "      <td>197.25</td>\n",
              "      <td>489.98</td>\n",
              "      <td>33228.55</td>\n",
              "      <td>0.0702</td>\n",
              "      <td>Toyota Sienna</td>\n",
              "    </tr>\n",
              "    <tr>\n",
              "      <th>3</th>\n",
              "      <td>4</td>\n",
              "      <td>33228.55</td>\n",
              "      <td>194.38</td>\n",
              "      <td>492.85</td>\n",
              "      <td>32735.70</td>\n",
              "      <td>0.0702</td>\n",
              "      <td>Toyota Sienna</td>\n",
              "    </tr>\n",
              "    <tr>\n",
              "      <th>4</th>\n",
              "      <td>5</td>\n",
              "      <td>32735.70</td>\n",
              "      <td>191.50</td>\n",
              "      <td>495.73</td>\n",
              "      <td>32239.97</td>\n",
              "      <td>0.0702</td>\n",
              "      <td>Toyota Sienna</td>\n",
              "    </tr>\n",
              "  </tbody>\n",
              "</table>\n",
              "</div>"
            ],
            "text/plain": [
              "   month  starting_balance  ...  interest_rate       car_type\n",
              "0      1          34689.96  ...         0.0702  Toyota Sienna\n",
              "1      2          34205.66  ...         0.0702  Toyota Sienna\n",
              "2      3          33718.53  ...         0.0702  Toyota Sienna\n",
              "3      4          33228.55  ...         0.0702  Toyota Sienna\n",
              "4      5          32735.70  ...         0.0702  Toyota Sienna\n",
              "\n",
              "[5 rows x 7 columns]"
            ]
          },
          "metadata": {
            "tags": []
          },
          "execution_count": 3
        }
      ]
    },
    {
      "cell_type": "code",
      "metadata": {
        "id": "uASy47QRzSdQ",
        "colab_type": "code",
        "colab": {
          "base_uri": "https://localhost:8080/",
          "height": 252
        },
        "outputId": "0e6b5948-418b-488c-ff68-2584f94322df"
      },
      "source": [
        "# Checking to make sure we dont have nans in our dataframe\n",
        "# It is not easy to directly plot data that contains nans\n",
        "df.info()"
      ],
      "execution_count": 4,
      "outputs": [
        {
          "output_type": "stream",
          "text": [
            "<class 'pandas.core.frame.DataFrame'>\n",
            "RangeIndex: 60 entries, 0 to 59\n",
            "Data columns (total 7 columns):\n",
            " #   Column            Non-Null Count  Dtype  \n",
            "---  ------            --------------  -----  \n",
            " 0   month             60 non-null     int64  \n",
            " 1   starting_balance  60 non-null     float64\n",
            " 2   interest_paid     60 non-null     float64\n",
            " 3   principal_paid    60 non-null     float64\n",
            " 4   new_balance       60 non-null     float64\n",
            " 5   interest_rate     60 non-null     float64\n",
            " 6   car_type          60 non-null     object \n",
            "dtypes: float64(5), int64(1), object(1)\n",
            "memory usage: 3.4+ KB\n"
          ],
          "name": "stdout"
        }
      ]
    },
    {
      "cell_type": "code",
      "metadata": {
        "id": "VdlWahRNzSdZ",
        "colab_type": "code",
        "colab": {}
      },
      "source": [
        "# For this notebook we will graph interest_paid, principal_paid, and month on one graph\n",
        "# While we could graph directly through pandas, we will graph through matplotlib for now.\n",
        "month_number = df.loc[:, 'month'].values\n",
        "interest_paid = df.loc[:, 'interest_paid'].values\n",
        "principal_paid = df.loc[:, 'principal_paid'].values"
      ],
      "execution_count": 5,
      "outputs": []
    },
    {
      "cell_type": "code",
      "metadata": {
        "id": "qivd8GhnzSdl",
        "colab_type": "code",
        "colab": {
          "base_uri": "https://localhost:8080/",
          "height": 84
        },
        "outputId": "3e187f30-167c-4e21-ba49-9f836bbeb64f"
      },
      "source": [
        "month_number"
      ],
      "execution_count": 6,
      "outputs": [
        {
          "output_type": "execute_result",
          "data": {
            "text/plain": [
              "array([ 1,  2,  3,  4,  5,  6,  7,  8,  9, 10, 11, 12, 13, 14, 15, 16, 17,\n",
              "       18, 19, 20, 21, 22, 23, 24, 25, 26, 27, 28, 29, 30, 31, 32, 33, 34,\n",
              "       35, 36, 37, 38, 39, 40, 41, 42, 43, 44, 45, 46, 47, 48, 49, 50, 51,\n",
              "       52, 53, 54, 55, 56, 57, 58, 59, 60])"
            ]
          },
          "metadata": {
            "tags": []
          },
          "execution_count": 6
        }
      ]
    },
    {
      "cell_type": "code",
      "metadata": {
        "id": "GKbfGXbQzSd0",
        "colab_type": "code",
        "colab": {
          "base_uri": "https://localhost:8080/",
          "height": 34
        },
        "outputId": "94396541-d9f4-4ae4-e6f0-efc542d5876c"
      },
      "source": [
        "# The values attribute converts a column of values into a numpy array\n",
        "type(month_number)"
      ],
      "execution_count": 7,
      "outputs": [
        {
          "output_type": "execute_result",
          "data": {
            "text/plain": [
              "numpy.ndarray"
            ]
          },
          "metadata": {
            "tags": []
          },
          "execution_count": 7
        }
      ]
    },
    {
      "cell_type": "markdown",
      "metadata": {
        "id": "3RtEb66JzSd-",
        "colab_type": "text"
      },
      "source": [
        "## Legends\n",
        "\n",
        "The `loc` (legend location) parameter accepts strings, ints, and tuples\n",
        "\n",
        "string | int\n",
        "--- | ---\n",
        "'best' | 0\n",
        "'upper right' | 1\n",
        "'upper left' | 2\n",
        "'lower left' |3\n",
        "'lower right' | 4\n",
        "'right' | 5\n",
        "'center left' | 6\n",
        "'center right' | 7\n",
        "'lower center' | 8\n",
        "'upper center' | 9\n",
        "'center' | 10\n",
        "\n",
        "The parameter accepts a 2 element tuple  ``x, y`` where (0, 0) is the of the lower-leftcorner of the legend in axes coordinates. "
      ]
    },
    {
      "cell_type": "markdown",
      "metadata": {
        "id": "LprX5o7czSeB",
        "colab_type": "text"
      },
      "source": [
        "### MATLAB-style"
      ]
    },
    {
      "cell_type": "code",
      "metadata": {
        "scrolled": true,
        "id": "yNnJLF-XzSeD",
        "colab_type": "code",
        "colab": {
          "base_uri": "https://localhost:8080/",
          "height": 290
        },
        "outputId": "ad5ba085-c339-42ed-d2bc-7673794f2dab"
      },
      "source": [
        "# Obviously the legend is not in an ideal location\n",
        "plt.plot(month_number, interest_paid, c= 'k', label = 'Interest')\n",
        "plt.plot(month_number, principal_paid, c = 'b', label = 'Principal')\n",
        "plt.legend()"
      ],
      "execution_count": 8,
      "outputs": [
        {
          "output_type": "execute_result",
          "data": {
            "text/plain": [
              "<matplotlib.legend.Legend at 0x7f3d528888d0>"
            ]
          },
          "metadata": {
            "tags": []
          },
          "execution_count": 8
        },
        {
          "output_type": "display_data",
          "data": {
            "image/png": "[encoded data removed]",
            "text/plain": [
              "<Figure size 432x288 with 1 Axes>"
            ]
          },
          "metadata": {
            "tags": [],
            "needs_background": "light"
          }
        }
      ]
    },
    {
      "cell_type": "code",
      "metadata": {
        "id": "rLua6RFpzSeH",
        "colab_type": "code",
        "colab": {
          "base_uri": "https://localhost:8080/",
          "height": 290
        },
        "outputId": "6c8a35d0-4359-45b6-f152-66d3610039a7"
      },
      "source": [
        "# At least the legend is not overlapping with the graph\n",
        "plt.plot(month_number, interest_paid, c= 'k', label = 'Interest')\n",
        "plt.plot(month_number, principal_paid, c = 'b', label = 'Principal')\n",
        "plt.legend(loc=\"center right\")"
      ],
      "execution_count": 9,
      "outputs": [
        {
          "output_type": "execute_result",
          "data": {
            "text/plain": [
              "<matplotlib.legend.Legend at 0x7f3d523072e8>"
            ]
          },
          "metadata": {
            "tags": []
          },
          "execution_count": 9
        },
        {
          "output_type": "display_data",
          "data": {
            "image/png": "[encoded data removed]",
            "text/plain": [
              "<Figure size 432x288 with 1 Axes>"
            ]
          },
          "metadata": {
            "tags": [],
            "needs_background": "light"
          }
        }
      ]
    },
    {
      "cell_type": "code",
      "metadata": {
        "id": "o3TqAzefzSeL",
        "colab_type": "code",
        "colab": {
          "base_uri": "https://localhost:8080/",
          "height": 290
        },
        "outputId": "0e0cccba-609a-4d05-8f7d-af21d01d41a9"
      },
      "source": [
        "# You can move the legend outside of the plotting area. \n",
        "# At least the legend is not overlapping with the graph\n",
        "plt.plot(month_number, interest_paid, c= 'k', label = 'Interest')\n",
        "plt.plot(month_number, principal_paid, c = 'b', label = 'Principal')\n",
        "plt.legend(loc=(1.02,0))"
      ],
      "execution_count": 10,
      "outputs": [
        {
          "output_type": "execute_result",
          "data": {
            "text/plain": [
              "<matplotlib.legend.Legend at 0x7f3d52286630>"
            ]
          },
          "metadata": {
            "tags": []
          },
          "execution_count": 10
        },
        {
          "output_type": "display_data",
          "data": {
            "image/png": "[encoded data removed]",
            "text/plain": [
              "<Figure size 432x288 with 1 Axes>"
            ]
          },
          "metadata": {
            "tags": [],
            "needs_background": "light"
          }
        }
      ]
    },
    {
      "cell_type": "markdown",
      "metadata": {
        "id": "nmYUKuU3zSeP",
        "colab_type": "text"
      },
      "source": [
        "### Object-oriented"
      ]
    },
    {
      "cell_type": "code",
      "metadata": {
        "id": "aqMdWueBzSeQ",
        "colab_type": "code",
        "colab": {
          "base_uri": "https://localhost:8080/",
          "height": 290
        },
        "outputId": "8854eec3-8173-48a4-a6a9-26ad435c6304"
      },
      "source": [
        "# Obviously the legend is not in an ideal location\n",
        "fig, axes = plt.subplots(nrows = 1, ncols = 1);\n",
        "axes.plot(month_number, interest_paid, c= 'k', label = 'Interest');\n",
        "axes.plot(month_number, principal_paid, c = 'b', label = 'Principal');\n",
        "axes.legend()"
      ],
      "execution_count": 11,
      "outputs": [
        {
          "output_type": "execute_result",
          "data": {
            "text/plain": [
              "<matplotlib.legend.Legend at 0x7f3d521fd6a0>"
            ]
          },
          "metadata": {
            "tags": []
          },
          "execution_count": 11
        },
        {
          "output_type": "display_data",
          "data": {
            "image/png": "[encoded data removed]",
            "text/plain": [
              "<Figure size 432x288 with 1 Axes>"
            ]
          },
          "metadata": {
            "tags": [],
            "needs_background": "light"
          }
        }
      ]
    },
    {
      "cell_type": "code",
      "metadata": {
        "id": "kdSuIeEPzSeU",
        "colab_type": "code",
        "colab": {
          "base_uri": "https://localhost:8080/",
          "height": 290
        },
        "outputId": "008c85cb-dab4-41e1-ded1-0102b1482793"
      },
      "source": [
        "# At least the legend is not overlapping with the graph\n",
        "fig, axes = plt.subplots(nrows = 1, ncols = 1);\n",
        "axes.plot(month_number, interest_paid, c= 'k', label = 'Interest');\n",
        "axes.plot(month_number, principal_paid, c = 'b', label = 'Principal');\n",
        "axes.legend(loc=\"center right\")"
      ],
      "execution_count": 12,
      "outputs": [
        {
          "output_type": "execute_result",
          "data": {
            "text/plain": [
              "<matplotlib.legend.Legend at 0x7f3d521f8630>"
            ]
          },
          "metadata": {
            "tags": []
          },
          "execution_count": 12
        },
        {
          "output_type": "display_data",
          "data": {
            "image/png": "[encoded data removed]",
            "text/plain": [
              "<Figure size 432x288 with 1 Axes>"
            ]
          },
          "metadata": {
            "tags": [],
            "needs_background": "light"
          }
        }
      ]
    },
    {
      "cell_type": "code",
      "metadata": {
        "id": "uq34miU5zSeX",
        "colab_type": "code",
        "colab": {
          "base_uri": "https://localhost:8080/",
          "height": 290
        },
        "outputId": "5d5512c4-cdc2-43dd-c4a9-7b72486780d0"
      },
      "source": [
        "# At least the legend is not overlapping with the graph\n",
        "fig, axes = plt.subplots(nrows = 1, ncols = 1);\n",
        "axes.plot(month_number, interest_paid, c= 'k', label = 'Interest');\n",
        "axes.plot(month_number, principal_paid, c = 'b', label = 'Principal');\n",
        "axes.legend(loc=(1.02,0))"
      ],
      "execution_count": 13,
      "outputs": [
        {
          "output_type": "execute_result",
          "data": {
            "text/plain": [
              "<matplotlib.legend.Legend at 0x7f3d521785c0>"
            ]
          },
          "metadata": {
            "tags": []
          },
          "execution_count": 13
        },
        {
          "output_type": "display_data",
          "data": {
            "image/png": "[encoded data removed]",
            "text/plain": [
              "<Figure size 432x288 with 1 Axes>"
            ]
          },
          "metadata": {
            "tags": [],
            "needs_background": "light"
          }
        }
      ]
    },
    {
      "cell_type": "code",
      "metadata": {
        "id": "7aR6SvJ4zSeb",
        "colab_type": "code",
        "colab": {}
      },
      "source": [
        ""
      ],
      "execution_count": null,
      "outputs": []
    }
  ]
}